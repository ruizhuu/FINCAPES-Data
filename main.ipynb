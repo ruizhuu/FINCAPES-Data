{
 "cells": [
  {
   "cell_type": "code",
   "execution_count": 11,
   "id": "35ba5bf0",
   "metadata": {},
   "outputs": [],
   "source": [
    "import os\n",
    "from supabase import create_client, Client\n",
    "import requests\n",
    "from dotenv import load_dotenv\n",
    "from koboextractor import KoboExtractor"
   ]
  },
  {
   "cell_type": "code",
   "execution_count": 21,
   "id": "2aa4afe8",
   "metadata": {},
   "outputs": [],
   "source": [
    "# Loading environment variables\n",
    "load_dotenv()\n",
    "KOBO_API_KEY = os.getenv(\"KOBO_API_KEY\")\n",
    "KOBO_FORM_ID = os.getenv(\"KOBO_FORM_ID\")\n",
    "KOBO_BASE_URL = 'https://kf.kobotoolbox.org/api/v2'\n",
    "SUPABASE_URL = os.getenv(\"SUPABASE_URL\")\n",
    "SUPABASE_API_KEY = os.getenv(\"SUPABASE_API_KEY\")"
   ]
  },
  {
   "cell_type": "code",
   "execution_count": 22,
   "id": "0565253b",
   "metadata": {},
   "outputs": [],
   "source": [
    "# Connect to Kobo Account using my token \n",
    "kobo = KoboExtractor(KOBO_API_KEY, KOBO_BASE_URL)"
   ]
  },
  {
   "cell_type": "code",
   "execution_count": 23,
   "id": "f8ef14e8",
   "metadata": {},
   "outputs": [
    {
     "data": {
      "text/plain": [
       "{'count': 2,\n",
       " 'next': None,\n",
       " 'previous': None,\n",
       " 'results': [{'_id': 523099236,\n",
       "   'formhub/uuid': '159bc8bbed784e2884f8f9de107c760e',\n",
       "   'start': '2025-07-22T12:51:24.037+07:00',\n",
       "   'end': '2025-07-23T14:52:30.664+07:00',\n",
       "   'group_wy1ht96/Usia_tahun': '45',\n",
       "   'group_wy1ht96/Pendidikan_terakhir': 'sd',\n",
       "   'group_wy1ht96/Lama_tinggal_di_wilayah_ini': '34',\n",
       "   'group_wy1ht96/Kerja_utama': 'Petani Sawah',\n",
       "   'group_wy1ht96/Kelompok_mana_yang_kamu_ikuti': 'petani_sawah anggota_kth',\n",
       "   'group_yq0hn72/Apakah_sawah_Anda_be_gan_kawasan_mangrove': 'ya',\n",
       "   'group_yq0hn72/Apakah_Anda_pernah_m_asin_masuk_ke_sawah': 'ya',\n",
       "   'group_yq0hn72/Jika_Ya_apakah_kond_lam_2_tahun_terakhir': 'AUTOMATIC',\n",
       "   'group_yq0hn72/Menurut_Anda_apakah_tau_intrusi_air_laut': 'ya',\n",
       "   'group_yq0hn72/Sejak_adanya_rehabil_sil_panen_sawah_Anda': 'tidak_berubah',\n",
       "   'group_ie54b73/Berapa_kali_KTH_Anda_lam_6_bulan_terakhir': '3',\n",
       "   'group_ie54b73/Jenis_kegiatan_apa_s_lam_6_bulan_terakhir': 'Meeting',\n",
       "   '__version__': 'vA6wdHURU2rwWPvrZtGjuH',\n",
       "   'meta/instanceID': 'uuid:08724fba-4a17-4008-a648-847e26ac3aab',\n",
       "   '_xform_id_string': 'amMeFyvFFey55X5rF6Sm5g',\n",
       "   '_uuid': '08724fba-4a17-4008-a648-847e26ac3aab',\n",
       "   'meta/rootUuid': 'uuid:08724fba-4a17-4008-a648-847e26ac3aab',\n",
       "   '_attachments': [],\n",
       "   '_status': 'submitted_via_web',\n",
       "   '_geolocation': [None, None],\n",
       "   '_submission_time': '2025-07-23T07:52:31',\n",
       "   '_tags': [],\n",
       "   '_notes': [],\n",
       "   '_validation_status': {},\n",
       "   '_submitted_by': None},\n",
       "  {'_id': 523104618,\n",
       "   'formhub/uuid': '159bc8bbed784e2884f8f9de107c760e',\n",
       "   'start': '2025-07-23T14:52:30.670+07:00',\n",
       "   'end': '2025-07-23T14:59:36.178+07:00',\n",
       "   'group_wy1ht96/Usia_tahun': '23',\n",
       "   'group_wy1ht96/Pendidikan_terakhir': 'diploma',\n",
       "   'group_wy1ht96/Lama_tinggal_di_wilayah_ini': '12',\n",
       "   'group_wy1ht96/Kerja_utama': 'Anggota',\n",
       "   'group_wy1ht96/Kelompok_mana_yang_kamu_ikuti': 'umkm',\n",
       "   'group_vs3mk69/Apa_jenis_produk_tur_utama_yang_Anda_jual': 'Buah mangrove',\n",
       "   'group_vs3mk69/Berapa_banyak_produk_satu_bulan_terakhir': '3',\n",
       "   'group_vs3mk69/Berapa_pendapatan_ra_bulan_dalam_Rupiah_001': '410000',\n",
       "   '__version__': 'vA6wdHURU2rwWPvrZtGjuH',\n",
       "   'meta/instanceID': 'uuid:cc9d14f4-838f-4bab-977b-630bf53f87f7',\n",
       "   '_xform_id_string': 'amMeFyvFFey55X5rF6Sm5g',\n",
       "   '_uuid': 'cc9d14f4-838f-4bab-977b-630bf53f87f7',\n",
       "   'meta/rootUuid': 'uuid:cc9d14f4-838f-4bab-977b-630bf53f87f7',\n",
       "   '_attachments': [],\n",
       "   '_status': 'submitted_via_web',\n",
       "   '_geolocation': [None, None],\n",
       "   '_submission_time': '2025-07-23T07:59:36',\n",
       "   '_tags': [],\n",
       "   '_notes': [],\n",
       "   '_validation_status': {},\n",
       "   '_submitted_by': None}]}"
      ]
     },
     "execution_count": 23,
     "metadata": {},
     "output_type": "execute_result"
    }
   ],
   "source": [
    "# Fetch data from a specific form\n",
    "data = kobo.get_data(KOBO_FORM_ID)\n",
    "data"
   ]
  },
  {
   "cell_type": "code",
   "execution_count": null,
   "id": "4ff36bdf",
   "metadata": {},
   "outputs": [],
   "source": [
    "# Convert from a nested .JSON into a file format that is amenable for SQL posting\n"
   ]
  },
  {
   "cell_type": "code",
   "execution_count": 4,
   "id": "2ecb36b3",
   "metadata": {},
   "outputs": [],
   "source": [
    "# Initialize Supabase client\n",
    "supabase: Client = create_client(SUPABASE_URL, SUPABASE_API_KEY)"
   ]
  }
 ],
 "metadata": {
  "kernelspec": {
   "display_name": "base",
   "language": "python",
   "name": "python3"
  },
  "language_info": {
   "codemirror_mode": {
    "name": "ipython",
    "version": 3
   },
   "file_extension": ".py",
   "mimetype": "text/x-python",
   "name": "python",
   "nbconvert_exporter": "python",
   "pygments_lexer": "ipython3",
   "version": "3.10.9"
  }
 },
 "nbformat": 4,
 "nbformat_minor": 5
}
